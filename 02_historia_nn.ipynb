{
 "cells": [
  {
   "cell_type": "markdown",
   "metadata": {},
   "source": [
    "## Historia de las redes neuronales\n",
    "\n",
    "1. La idea básica surge del modelo del comportamiento de las neuronas sugerido por Donald O. Hebb. Propone que el aprendizaje tiene relación con un **umbral de activación** de las neuronas, el que se alcanza mediante la **repetición de un estímulo**.\n",
    "\n",
    "2. Frank Rosenblatt (1957) presentó el perceptrón. \n",
    "\n",
    "3. Widrow (1959) publica una teoría sobre adaptación neuronal y modelos inspirados en el perceptrón. Los modelos de redes neuronales diseñados por él fueron utilizados por primera vez de manera práctica para *filtros para eliminr ecos en líneas telefónicas*. Incorpora una mejora en la forma de actualizar los pesos teniendo en cuenta el error respecto al valor esperado, denominada **regla delta o algoritmo LMS.**\n",
    "\n",
    "4. Rosenblatt (1962) a partir del trabjo de Widrow, añade al perceptrón una función objetivo, permitiendo con esto *orientar* el proceso de aprendizaje.\n",
    "\n",
    "5. (Años 80). En el contexto de investigaciones militares, se desarrollan las arquitecturas multicapas. \n",
    "\n",
    "6. (2010-2020). Desarrollo de redes convolucionales. Una red neuronal normal, pero que se le anteponen capas de preprocesamiento que ayudan a transformar los inputs a una matriz numérica.\n",
    "\n",
    "7. (2014-adelante). Desarrollo de redes GAN. Resuelven el problema del etiquetado para el entrenamiento (que es caro), generando nuevos ejemplos y variaciones a partir de un ejemplo etiquetado, para generar volumen de datos para etiquetar."
   ]
  }
 ],
 "metadata": {
  "language_info": {
   "name": "python"
  }
 },
 "nbformat": 4,
 "nbformat_minor": 2
}
