{
 "cells": [
  {
   "cell_type": "markdown",
   "metadata": {
    "id": "TBt7lMd2uk7g"
   },
   "source": [
    "* Modelo predictivo de redes neuronales para el **reconocimiento de imágenes de texto escrito a mano**.\n",
    "\n",
    "* Implementado mediante Keras.\n",
    "\n",
    "* El script tiene objetivos pedagógicos.\n",
    "\n",
    "* Se obtiene un modelo con un accuracy (out-sample) del 94.5% al reconocer los dígitos."
   ]
  },
  {
   "cell_type": "code",
   "execution_count": 1,
   "metadata": {
    "executionInfo": {
     "elapsed": 235,
     "status": "ok",
     "timestamp": 1644745793898,
     "user": {
      "displayName": "Gonzalo Plaza",
      "photoUrl": "https://lh3.googleusercontent.com/a-/AOh14GjmvMAtExqe2jktxxqcs-sSx_hBL15FTAGmZ3mlTA=s64",
      "userId": "03060927649473190252"
     },
     "user_tz": 180
    },
    "id": "RIxPl1byePcK"
   },
   "outputs": [
    {
     "name": "stderr",
     "output_type": "stream",
     "text": [
      "2023-02-04 18:36:27.679906: I tensorflow/core/util/util.cc:169] oneDNN custom operations are on. You may see slightly different numerical results due to floating-point round-off errors from different computation orders. To turn them off, set the environment variable `TF_ENABLE_ONEDNN_OPTS=0`.\n",
      "2023-02-04 18:36:27.683157: W tensorflow/stream_executor/platform/default/dso_loader.cc:64] Could not load dynamic library 'libcudart.so.11.0'; dlerror: libcudart.so.11.0: cannot open shared object file: No such file or directory\n",
      "2023-02-04 18:36:27.683168: I tensorflow/stream_executor/cuda/cudart_stub.cc:29] Ignore above cudart dlerror if you do not have a GPU set up on your machine.\n"
     ]
    }
   ],
   "source": [
    "import tensorflow as tf\n",
    "import matplotlib.pyplot as plt\n",
    "import numpy as np\n",
    "import pandas as pd\n",
    "import random\n",
    "from tensorflow.keras.models import Sequential\n",
    "from tensorflow.keras.layers import Flatten\n",
    "from tensorflow.keras.layers import Dense\n",
    "from sklearn.metrics import classification_report\n",
    "\n",
    "###################################################\n",
    "# Config\n",
    "###################################################\n",
    "from IPython.core.interactiveshell import InteractiveShell\n",
    "InteractiveShell.ast_node_interactivity = \"all\""
   ]
  },
  {
   "cell_type": "code",
   "execution_count": 2,
   "metadata": {
    "colab": {
     "base_uri": "https://localhost:8080/"
    },
    "executionInfo": {
     "elapsed": 410,
     "status": "ok",
     "timestamp": 1644745796881,
     "user": {
      "displayName": "Gonzalo Plaza",
      "photoUrl": "https://lh3.googleusercontent.com/a-/AOh14GjmvMAtExqe2jktxxqcs-sSx_hBL15FTAGmZ3mlTA=s64",
      "userId": "03060927649473190252"
     },
     "user_tz": 180
    },
    "id": "MH5FA3bbfBE9",
    "outputId": "08d8b349-4acc-4255-b1a7-319f6f66f151"
   },
   "outputs": [
    {
     "data": {
      "text/plain": [
       "[(60000, 28, 28), (60000,), (10000, 28, 28), (10000,)]"
      ]
     },
     "execution_count": 2,
     "metadata": {},
     "output_type": "execute_result"
    }
   ],
   "source": [
    "###################################################\n",
    "# 1. Load dataset\n",
    "###################################################\n",
    "\n",
    "# Carga de datos\n",
    "# mnist es una base de datos de dígitos escritos a mano\n",
    "mnist = tf.keras.datasets.mnist\n",
    "(x_train, y_train),(x_test, y_test) = mnist.load_data()\n",
    "\n",
    "# El dataset de entrenamiento corresponde a 60000 imágenes de dígitos a mano \n",
    "# (con sus respectivas labels)\n",
    "# Por otro lado, está el dataset de 10000 imágenes para testing\n",
    "[x_train.shape, y_train.shape, x_test.shape, y_test.shape]"
   ]
  },
  {
   "cell_type": "code",
   "execution_count": 3,
   "metadata": {
    "colab": {
     "base_uri": "https://localhost:8080/"
    },
    "executionInfo": {
     "elapsed": 400,
     "status": "ok",
     "timestamp": 1644745802153,
     "user": {
      "displayName": "Gonzalo Plaza",
      "photoUrl": "https://lh3.googleusercontent.com/a-/AOh14GjmvMAtExqe2jktxxqcs-sSx_hBL15FTAGmZ3mlTA=s64",
      "userId": "03060927649473190252"
     },
     "user_tz": 180
    },
    "id": "lDPy3X7AhKeO",
    "outputId": "b010f0e3-9e05-4e21-cd89-b2f603ac25b5"
   },
   "outputs": [
    {
     "data": {
      "text/plain": [
       "array([5, 0, 4, 1, 9, 2, 1, 3, 1, 4, 3, 5, 3, 6, 1, 7, 2, 8, 6, 9],\n",
       "      dtype=uint8)"
      ]
     },
     "execution_count": 3,
     "metadata": {},
     "output_type": "execute_result"
    }
   ],
   "source": [
    "#Estos van del 0 al 9.\n",
    "y_train[:20]"
   ]
  },
  {
   "cell_type": "code",
   "execution_count": 4,
   "metadata": {
    "colab": {
     "base_uri": "https://localhost:8080/",
     "height": 373
    },
    "executionInfo": {
     "elapsed": 395,
     "status": "ok",
     "timestamp": 1644745803568,
     "user": {
      "displayName": "Gonzalo Plaza",
      "photoUrl": "https://lh3.googleusercontent.com/a-/AOh14GjmvMAtExqe2jktxxqcs-sSx_hBL15FTAGmZ3mlTA=s64",
      "userId": "03060927649473190252"
     },
     "user_tz": 180
    },
    "id": "Sg8B5MAzgh3N",
    "outputId": "0a6ff4ac-4d3d-4d0e-b2b6-bbeb8ec0c583"
   },
   "outputs": [
    {
     "data": {
      "image/png": "[encoded data removed]",
      "text/plain": [
       "<Figure size 720x432 with 1 Axes>"
      ]
     },
     "metadata": {
      "needs_background": "light"
     },
     "output_type": "display_data"
    }
   ],
   "source": [
    "# la primera imagen \n",
    "fig, ax = plt.subplots(figsize = (10,6))\n",
    "ax.imshow(x_train[0]);"
   ]
  },
  {
   "cell_type": "code",
   "execution_count": 10,
   "metadata": {
    "colab": {
     "base_uri": "https://localhost:8080/",
     "height": 462
    },
    "executionInfo": {
     "elapsed": 2091,
     "status": "ok",
     "timestamp": 1644745808373,
     "user": {
      "displayName": "Gonzalo Plaza",
      "photoUrl": "https://lh3.googleusercontent.com/a-/AOh14GjmvMAtExqe2jktxxqcs-sSx_hBL15FTAGmZ3mlTA=s64",
      "userId": "03060927649473190252"
     },
     "user_tz": 180
    },
    "id": "JizETVhChZGM",
    "outputId": "42986d24-bb2c-410e-93ad-9188c92fe44d"
   },
   "outputs": [
    {
     "data": {
      "text/plain": [
       "<matplotlib.image.AxesImage at 0x7fe1f3a4b2e0>"
      ]
     },
     "execution_count": 10,
     "metadata": {},
     "output_type": "execute_result"
    },
    {
     "data": {
      "text/plain": [
       "<matplotlib.image.AxesImage at 0x7fe1f3a11760>"
      ]
     },
     "execution_count": 10,
     "metadata": {},
     "output_type": "execute_result"
    },
    {
     "data": {
      "text/plain": [
       "<matplotlib.image.AxesImage at 0x7fe1f3a21eb0>"
      ]
     },
     "execution_count": 10,
     "metadata": {},
     "output_type": "execute_result"
    },
    {
     "data": {
      "text/plain": [
       "<matplotlib.image.AxesImage at 0x7fe1f39b21f0>"
      ]
     },
     "execution_count": 10,
     "metadata": {},
     "output_type": "execute_result"
    },
    {
     "data": {
      "text/plain": [
       "<matplotlib.image.AxesImage at 0x7fe1f39b2580>"
      ]
     },
     "execution_count": 10,
     "metadata": {},
     "output_type": "execute_result"
    },
    {
     "data": {
      "text/plain": [
       "<matplotlib.image.AxesImage at 0x7fe1f39b2880>"
      ]
     },
     "execution_count": 10,
     "metadata": {},
     "output_type": "execute_result"
    },
    {
     "data": {
      "text/plain": [
       "<matplotlib.image.AxesImage at 0x7fe1f39b2d30>"
      ]
     },
     "execution_count": 10,
     "metadata": {},
     "output_type": "execute_result"
    },
    {
     "data": {
      "text/plain": [
       "<matplotlib.image.AxesImage at 0x7fe1f39b2fa0>"
      ]
     },
     "execution_count": 10,
     "metadata": {},
     "output_type": "execute_result"
    },
    {
     "data": {
      "text/plain": [
       "<matplotlib.image.AxesImage at 0x7fe1f39bf490>"
      ]
     },
     "execution_count": 10,
     "metadata": {},
     "output_type": "execute_result"
    },
    {
     "data": {
      "image/png": "[encoded data removed]",
      "text/plain": [
       "<Figure size 720x432 with 9 Axes>"
      ]
     },
     "metadata": {
      "needs_background": "light"
     },
     "output_type": "display_data"
    }
   ],
   "source": [
    "fig, ax = plt.subplots(3,3,figsize = (10,6))\n",
    "for i in range(3):\n",
    "    for j in range(3):\n",
    "        ax[i,j].imshow(x_train[i+j], cmap=plt.cm.binary)"
   ]
  },
  {
   "cell_type": "code",
   "execution_count": 12,
   "metadata": {
    "colab": {
     "base_uri": "https://localhost:8080/"
    },
    "executionInfo": {
     "elapsed": 416,
     "status": "ok",
     "timestamp": 1644745827989,
     "user": {
      "displayName": "Gonzalo Plaza",
      "photoUrl": "https://lh3.googleusercontent.com/a-/AOh14GjmvMAtExqe2jktxxqcs-sSx_hBL15FTAGmZ3mlTA=s64",
      "userId": "03060927649473190252"
     },
     "user_tz": 180
    },
    "id": "h_Ranuiwi8OX",
    "outputId": "4a10b5a1-29a6-4250-a21f-3541b0d4ed2a"
   },
   "outputs": [
    {
     "name": "stdout",
     "output_type": "stream",
     "text": [
      "Model: \"sequential_1\"\n",
      "_________________________________________________________________\n",
      " Layer (type)                Output Shape              Param #   \n",
      "=================================================================\n",
      " flatten_1 (Flatten)         (None, 784)               0         \n",
      "                                                                 \n",
      " dense_2 (Dense)             (None, 128)               100480    \n",
      "                                                                 \n",
      " dense_3 (Dense)             (None, 10)                1290      \n",
      "                                                                 \n",
      "=================================================================\n",
      "Total params: 101,770\n",
      "Trainable params: 101,770\n",
      "Non-trainable params: 0\n",
      "_________________________________________________________________\n"
     ]
    }
   ],
   "source": [
    "###################################################\n",
    "# 3. Design NN\n",
    "###################################################\n",
    "\n",
    "neuronas_capa_a = 128\n",
    "activation_capa_a = 'relu'\n",
    "neuronas_capa_salida = '10'\n",
    "activation_capa_salida = 'softmax'\n",
    "optimizer = 'adam'\n",
    "loss = 'sparse_categorical_crossentropy'\n",
    "metrics = ['accuracy']\n",
    "epochs = 5\n",
    "\n",
    "# arquitectura\n",
    "modelo = Sequential()\n",
    "modelo.add(Flatten(input_shape = (28,28))) # capa 1: reformateo del set de datos, donde cada matriz de 28x28 lo transforma en una fila. Sólo preprocesamiento.\n",
    "modelo.add(Dense(units = neuronas_capa_a, activation = activation_capa_a)) # capa 2: capa de 128 neuronas, tipo Dense\n",
    "modelo.add(Dense(units = neuronas_capa_salida, activation = activation_capa_salida)) # capa 3: 10 neuronas de capa de salida, una por dígito, para devolver probabilidades por clase posible.  \n",
    "modelo.compile(optimizer = optimizer, loss = loss, metrics = metrics) # compilacion: 1. determina cómo se actualiza el modelo, 2.determina la función de pérdida 3.determina la métrica de monitoreo del proceso\n",
    "\n",
    "modelo.summary()"
   ]
  },
  {
   "cell_type": "code",
   "execution_count": 13,
   "metadata": {
    "colab": {
     "base_uri": "https://localhost:8080/"
    },
    "executionInfo": {
     "elapsed": 42389,
     "status": "ok",
     "timestamp": 1644745880739,
     "user": {
      "displayName": "Gonzalo Plaza",
      "photoUrl": "https://lh3.googleusercontent.com/a-/AOh14GjmvMAtExqe2jktxxqcs-sSx_hBL15FTAGmZ3mlTA=s64",
      "userId": "03060927649473190252"
     },
     "user_tz": 180
    },
    "id": "zNe-mLvClZEz",
    "outputId": "9f7db264-b323-4770-838a-35b268782370"
   },
   "outputs": [
    {
     "name": "stdout",
     "output_type": "stream",
     "text": [
      "Epoch 1/5\n",
      "1500/1500 [==============================] - 2s 1ms/step - loss: 2.9982 - accuracy: 0.8546 - val_loss: 0.5220 - val_accuracy: 0.8913\n",
      "Epoch 2/5\n",
      "1500/1500 [==============================] - 2s 1ms/step - loss: 0.4212 - accuracy: 0.9078 - val_loss: 0.4511 - val_accuracy: 0.9025\n",
      "Epoch 3/5\n",
      "1500/1500 [==============================] - 2s 1ms/step - loss: 0.2984 - accuracy: 0.9243 - val_loss: 0.3470 - val_accuracy: 0.9206\n",
      "Epoch 4/5\n",
      "1500/1500 [==============================] - 2s 1ms/step - loss: 0.2734 - accuracy: 0.9318 - val_loss: 0.2961 - val_accuracy: 0.9283\n",
      "Epoch 5/5\n",
      "1500/1500 [==============================] - 2s 1ms/step - loss: 0.2472 - accuracy: 0.9368 - val_loss: 0.2562 - val_accuracy: 0.9336\n"
     ]
    }
   ],
   "source": [
    "###################################################\n",
    "# 4. Train\n",
    "###################################################\n",
    "hist = modelo.fit(x_train, y_train, \n",
    "                  epochs = epochs,\n",
    "                  validation_split = 0.2)"
   ]
  },
  {
   "cell_type": "code",
   "execution_count": 16,
   "metadata": {
    "colab": {
     "base_uri": "https://localhost:8080/"
    },
    "executionInfo": {
     "elapsed": 5685,
     "status": "ok",
     "timestamp": 1644745935353,
     "user": {
      "displayName": "Gonzalo Plaza",
      "photoUrl": "https://lh3.googleusercontent.com/a-/AOh14GjmvMAtExqe2jktxxqcs-sSx_hBL15FTAGmZ3mlTA=s64",
      "userId": "03060927649473190252"
     },
     "user_tz": 180
    },
    "id": "Rzb3nwcSlrz8",
    "outputId": "d52c8333-8db8-47dc-b69a-fccd8496e8ef"
   },
   "outputs": [
    {
     "name": "stdout",
     "output_type": "stream",
     "text": [
      "1875/1875 [==============================] - 1s 568us/step\n",
      "1875/1875 [==============================] - 1s 586us/step - loss: 0.2178 - accuracy: 0.9387\n"
     ]
    },
    {
     "data": {
      "text/plain": [
       "[0.21784445643424988, 0.9387166500091553]"
      ]
     },
     "execution_count": 16,
     "metadata": {},
     "output_type": "execute_result"
    }
   ],
   "source": [
    "###################################################\n",
    "# 5. Evaluate (in sample)\n",
    "###################################################\n",
    "y_pred = modelo.predict(x_train)\n",
    "modelo.evaluate(x_train, y_train)"
   ]
  },
  {
   "cell_type": "code",
   "execution_count": 17,
   "metadata": {
    "colab": {
     "base_uri": "https://localhost:8080/"
    },
    "executionInfo": {
     "elapsed": 1431,
     "status": "ok",
     "timestamp": 1644745951883,
     "user": {
      "displayName": "Gonzalo Plaza",
      "photoUrl": "https://lh3.googleusercontent.com/a-/AOh14GjmvMAtExqe2jktxxqcs-sSx_hBL15FTAGmZ3mlTA=s64",
      "userId": "03060927649473190252"
     },
     "user_tz": 180
    },
    "id": "kSb-hIKNlzrn",
    "outputId": "77bcd2c3-4ea7-47eb-8411-e46d1c2c6b2d"
   },
   "outputs": [
    {
     "name": "stdout",
     "output_type": "stream",
     "text": [
      "313/313 [==============================] - 0s 634us/step - loss: 0.2735 - accuracy: 0.9315\n"
     ]
    },
    {
     "data": {
      "text/plain": [
       "[0.27346986532211304, 0.9315000176429749]"
      ]
     },
     "execution_count": 17,
     "metadata": {},
     "output_type": "execute_result"
    }
   ],
   "source": [
    "# evaluación (out-sample)\n",
    "modelo.evaluate(x_test, y_test)"
   ]
  },
  {
   "cell_type": "code",
   "execution_count": 18,
   "metadata": {
    "colab": {
     "base_uri": "https://localhost:8080/",
     "height": 693
    },
    "executionInfo": {
     "elapsed": 842,
     "status": "ok",
     "timestamp": 1644745971016,
     "user": {
      "displayName": "Gonzalo Plaza",
      "photoUrl": "https://lh3.googleusercontent.com/a-/AOh14GjmvMAtExqe2jktxxqcs-sSx_hBL15FTAGmZ3mlTA=s64",
      "userId": "03060927649473190252"
     },
     "user_tz": 180
    },
    "id": "INR6E7g9mA41",
    "outputId": "d05c4a5a-9f07-4e15-ac33-b9eebdbf9aef"
   },
   "outputs": [
    {
     "name": "stdout",
     "output_type": "stream",
     "text": [
      "313/313 [==============================] - 0s 508us/step\n"
     ]
    },
    {
     "data": {
      "text/plain": [
       "(10000, 10)"
      ]
     },
     "execution_count": 18,
     "metadata": {},
     "output_type": "execute_result"
    },
    {
     "data": {
      "text/html": [
       "<div>\n",
       "<style scoped>\n",
       "    .dataframe tbody tr th:only-of-type {\n",
       "        vertical-align: middle;\n",
       "    }\n",
       "\n",
       "    .dataframe tbody tr th {\n",
       "        vertical-align: top;\n",
       "    }\n",
       "\n",
       "    .dataframe thead th {\n",
       "        text-align: right;\n",
       "    }\n",
       "</style>\n",
       "<table border=\"1\" class=\"dataframe\">\n",
       "  <thead>\n",
       "    <tr style=\"text-align: right;\">\n",
       "      <th></th>\n",
       "      <th>0</th>\n",
       "      <th>1</th>\n",
       "      <th>2</th>\n",
       "      <th>3</th>\n",
       "      <th>4</th>\n",
       "      <th>5</th>\n",
       "      <th>6</th>\n",
       "      <th>7</th>\n",
       "      <th>8</th>\n",
       "      <th>9</th>\n",
       "    </tr>\n",
       "  </thead>\n",
       "  <tbody>\n",
       "    <tr>\n",
       "      <th>0</th>\n",
       "      <td>0.000</td>\n",
       "      <td>0.003</td>\n",
       "      <td>0.000</td>\n",
       "      <td>0.091</td>\n",
       "      <td>0.000</td>\n",
       "      <td>0.000</td>\n",
       "      <td>0.000</td>\n",
       "      <td>0.905</td>\n",
       "      <td>0.000</td>\n",
       "      <td>0.000</td>\n",
       "    </tr>\n",
       "    <tr>\n",
       "      <th>1</th>\n",
       "      <td>0.000</td>\n",
       "      <td>0.000</td>\n",
       "      <td>1.000</td>\n",
       "      <td>0.000</td>\n",
       "      <td>0.000</td>\n",
       "      <td>0.000</td>\n",
       "      <td>0.000</td>\n",
       "      <td>0.000</td>\n",
       "      <td>0.000</td>\n",
       "      <td>0.000</td>\n",
       "    </tr>\n",
       "    <tr>\n",
       "      <th>2</th>\n",
       "      <td>0.000</td>\n",
       "      <td>1.000</td>\n",
       "      <td>0.000</td>\n",
       "      <td>0.000</td>\n",
       "      <td>0.000</td>\n",
       "      <td>0.000</td>\n",
       "      <td>0.000</td>\n",
       "      <td>0.000</td>\n",
       "      <td>0.000</td>\n",
       "      <td>0.000</td>\n",
       "    </tr>\n",
       "    <tr>\n",
       "      <th>3</th>\n",
       "      <td>1.000</td>\n",
       "      <td>0.000</td>\n",
       "      <td>0.000</td>\n",
       "      <td>0.000</td>\n",
       "      <td>0.000</td>\n",
       "      <td>0.000</td>\n",
       "      <td>0.000</td>\n",
       "      <td>0.000</td>\n",
       "      <td>0.000</td>\n",
       "      <td>0.000</td>\n",
       "    </tr>\n",
       "    <tr>\n",
       "      <th>4</th>\n",
       "      <td>0.000</td>\n",
       "      <td>0.000</td>\n",
       "      <td>0.000</td>\n",
       "      <td>0.000</td>\n",
       "      <td>1.000</td>\n",
       "      <td>0.000</td>\n",
       "      <td>0.000</td>\n",
       "      <td>0.000</td>\n",
       "      <td>0.000</td>\n",
       "      <td>0.000</td>\n",
       "    </tr>\n",
       "    <tr>\n",
       "      <th>5</th>\n",
       "      <td>0.000</td>\n",
       "      <td>1.000</td>\n",
       "      <td>0.000</td>\n",
       "      <td>0.000</td>\n",
       "      <td>0.000</td>\n",
       "      <td>0.000</td>\n",
       "      <td>0.000</td>\n",
       "      <td>0.000</td>\n",
       "      <td>0.000</td>\n",
       "      <td>0.000</td>\n",
       "    </tr>\n",
       "    <tr>\n",
       "      <th>6</th>\n",
       "      <td>0.000</td>\n",
       "      <td>0.000</td>\n",
       "      <td>0.000</td>\n",
       "      <td>0.000</td>\n",
       "      <td>1.000</td>\n",
       "      <td>0.000</td>\n",
       "      <td>0.000</td>\n",
       "      <td>0.000</td>\n",
       "      <td>0.000</td>\n",
       "      <td>0.000</td>\n",
       "    </tr>\n",
       "    <tr>\n",
       "      <th>7</th>\n",
       "      <td>0.000</td>\n",
       "      <td>0.000</td>\n",
       "      <td>0.000</td>\n",
       "      <td>0.000</td>\n",
       "      <td>0.054</td>\n",
       "      <td>0.000</td>\n",
       "      <td>0.000</td>\n",
       "      <td>0.017</td>\n",
       "      <td>0.000</td>\n",
       "      <td>0.928</td>\n",
       "    </tr>\n",
       "    <tr>\n",
       "      <th>8</th>\n",
       "      <td>0.000</td>\n",
       "      <td>0.000</td>\n",
       "      <td>0.000</td>\n",
       "      <td>0.000</td>\n",
       "      <td>0.000</td>\n",
       "      <td>0.966</td>\n",
       "      <td>0.032</td>\n",
       "      <td>0.000</td>\n",
       "      <td>0.001</td>\n",
       "      <td>0.000</td>\n",
       "    </tr>\n",
       "    <tr>\n",
       "      <th>9</th>\n",
       "      <td>0.001</td>\n",
       "      <td>0.000</td>\n",
       "      <td>0.000</td>\n",
       "      <td>0.000</td>\n",
       "      <td>0.006</td>\n",
       "      <td>0.000</td>\n",
       "      <td>0.000</td>\n",
       "      <td>0.004</td>\n",
       "      <td>0.000</td>\n",
       "      <td>0.988</td>\n",
       "    </tr>\n",
       "    <tr>\n",
       "      <th>10</th>\n",
       "      <td>1.000</td>\n",
       "      <td>0.000</td>\n",
       "      <td>0.000</td>\n",
       "      <td>0.000</td>\n",
       "      <td>0.000</td>\n",
       "      <td>0.000</td>\n",
       "      <td>0.000</td>\n",
       "      <td>0.000</td>\n",
       "      <td>0.000</td>\n",
       "      <td>0.000</td>\n",
       "    </tr>\n",
       "    <tr>\n",
       "      <th>11</th>\n",
       "      <td>0.000</td>\n",
       "      <td>0.000</td>\n",
       "      <td>0.000</td>\n",
       "      <td>0.000</td>\n",
       "      <td>0.000</td>\n",
       "      <td>0.006</td>\n",
       "      <td>0.990</td>\n",
       "      <td>0.000</td>\n",
       "      <td>0.004</td>\n",
       "      <td>0.000</td>\n",
       "    </tr>\n",
       "    <tr>\n",
       "      <th>12</th>\n",
       "      <td>0.003</td>\n",
       "      <td>0.000</td>\n",
       "      <td>0.000</td>\n",
       "      <td>0.000</td>\n",
       "      <td>0.064</td>\n",
       "      <td>0.000</td>\n",
       "      <td>0.000</td>\n",
       "      <td>0.002</td>\n",
       "      <td>0.000</td>\n",
       "      <td>0.931</td>\n",
       "    </tr>\n",
       "    <tr>\n",
       "      <th>13</th>\n",
       "      <td>1.000</td>\n",
       "      <td>0.000</td>\n",
       "      <td>0.000</td>\n",
       "      <td>0.000</td>\n",
       "      <td>0.000</td>\n",
       "      <td>0.000</td>\n",
       "      <td>0.000</td>\n",
       "      <td>0.000</td>\n",
       "      <td>0.000</td>\n",
       "      <td>0.000</td>\n",
       "    </tr>\n",
       "    <tr>\n",
       "      <th>14</th>\n",
       "      <td>0.000</td>\n",
       "      <td>1.000</td>\n",
       "      <td>0.000</td>\n",
       "      <td>0.000</td>\n",
       "      <td>0.000</td>\n",
       "      <td>0.000</td>\n",
       "      <td>0.000</td>\n",
       "      <td>0.000</td>\n",
       "      <td>0.000</td>\n",
       "      <td>0.000</td>\n",
       "    </tr>\n",
       "    <tr>\n",
       "      <th>15</th>\n",
       "      <td>0.000</td>\n",
       "      <td>0.000</td>\n",
       "      <td>0.000</td>\n",
       "      <td>0.000</td>\n",
       "      <td>0.000</td>\n",
       "      <td>1.000</td>\n",
       "      <td>0.000</td>\n",
       "      <td>0.000</td>\n",
       "      <td>0.000</td>\n",
       "      <td>0.000</td>\n",
       "    </tr>\n",
       "    <tr>\n",
       "      <th>16</th>\n",
       "      <td>0.000</td>\n",
       "      <td>0.000</td>\n",
       "      <td>0.000</td>\n",
       "      <td>0.000</td>\n",
       "      <td>0.001</td>\n",
       "      <td>0.000</td>\n",
       "      <td>0.000</td>\n",
       "      <td>0.000</td>\n",
       "      <td>0.000</td>\n",
       "      <td>0.998</td>\n",
       "    </tr>\n",
       "    <tr>\n",
       "      <th>17</th>\n",
       "      <td>0.000</td>\n",
       "      <td>0.000</td>\n",
       "      <td>0.001</td>\n",
       "      <td>0.000</td>\n",
       "      <td>0.000</td>\n",
       "      <td>0.000</td>\n",
       "      <td>0.000</td>\n",
       "      <td>0.999</td>\n",
       "      <td>0.000</td>\n",
       "      <td>0.000</td>\n",
       "    </tr>\n",
       "    <tr>\n",
       "      <th>18</th>\n",
       "      <td>0.000</td>\n",
       "      <td>0.000</td>\n",
       "      <td>0.000</td>\n",
       "      <td>0.787</td>\n",
       "      <td>0.000</td>\n",
       "      <td>0.055</td>\n",
       "      <td>0.000</td>\n",
       "      <td>0.000</td>\n",
       "      <td>0.000</td>\n",
       "      <td>0.158</td>\n",
       "    </tr>\n",
       "    <tr>\n",
       "      <th>19</th>\n",
       "      <td>0.000</td>\n",
       "      <td>0.000</td>\n",
       "      <td>0.000</td>\n",
       "      <td>0.000</td>\n",
       "      <td>1.000</td>\n",
       "      <td>0.000</td>\n",
       "      <td>0.000</td>\n",
       "      <td>0.000</td>\n",
       "      <td>0.000</td>\n",
       "      <td>0.000</td>\n",
       "    </tr>\n",
       "  </tbody>\n",
       "</table>\n",
       "</div>"
      ],
      "text/plain": [
       "        0      1      2      3      4      5      6      7      8      9\n",
       "0   0.000  0.003  0.000  0.091  0.000  0.000  0.000  0.905  0.000  0.000\n",
       "1   0.000  0.000  1.000  0.000  0.000  0.000  0.000  0.000  0.000  0.000\n",
       "2   0.000  1.000  0.000  0.000  0.000  0.000  0.000  0.000  0.000  0.000\n",
       "3   1.000  0.000  0.000  0.000  0.000  0.000  0.000  0.000  0.000  0.000\n",
       "4   0.000  0.000  0.000  0.000  1.000  0.000  0.000  0.000  0.000  0.000\n",
       "5   0.000  1.000  0.000  0.000  0.000  0.000  0.000  0.000  0.000  0.000\n",
       "6   0.000  0.000  0.000  0.000  1.000  0.000  0.000  0.000  0.000  0.000\n",
       "7   0.000  0.000  0.000  0.000  0.054  0.000  0.000  0.017  0.000  0.928\n",
       "8   0.000  0.000  0.000  0.000  0.000  0.966  0.032  0.000  0.001  0.000\n",
       "9   0.001  0.000  0.000  0.000  0.006  0.000  0.000  0.004  0.000  0.988\n",
       "10  1.000  0.000  0.000  0.000  0.000  0.000  0.000  0.000  0.000  0.000\n",
       "11  0.000  0.000  0.000  0.000  0.000  0.006  0.990  0.000  0.004  0.000\n",
       "12  0.003  0.000  0.000  0.000  0.064  0.000  0.000  0.002  0.000  0.931\n",
       "13  1.000  0.000  0.000  0.000  0.000  0.000  0.000  0.000  0.000  0.000\n",
       "14  0.000  1.000  0.000  0.000  0.000  0.000  0.000  0.000  0.000  0.000\n",
       "15  0.000  0.000  0.000  0.000  0.000  1.000  0.000  0.000  0.000  0.000\n",
       "16  0.000  0.000  0.000  0.000  0.001  0.000  0.000  0.000  0.000  0.998\n",
       "17  0.000  0.000  0.001  0.000  0.000  0.000  0.000  0.999  0.000  0.000\n",
       "18  0.000  0.000  0.000  0.787  0.000  0.055  0.000  0.000  0.000  0.158\n",
       "19  0.000  0.000  0.000  0.000  1.000  0.000  0.000  0.000  0.000  0.000"
      ]
     },
     "execution_count": 18,
     "metadata": {},
     "output_type": "execute_result"
    }
   ],
   "source": [
    "# evaluación (out-sample)\n",
    "#pd.set_option('precision', 5)\n",
    "y_predict = modelo.predict(x_test)\n",
    "y_predict.shape\n",
    "pd.DataFrame(y_predict.round(3)).head(20)"
   ]
  },
  {
   "cell_type": "code",
   "execution_count": 19,
   "metadata": {
    "colab": {
     "base_uri": "https://localhost:8080/",
     "height": 987
    },
    "executionInfo": {
     "elapsed": 4096,
     "status": "ok",
     "timestamp": 1644746066506,
     "user": {
      "displayName": "Gonzalo Plaza",
      "photoUrl": "https://lh3.googleusercontent.com/a-/AOh14GjmvMAtExqe2jktxxqcs-sSx_hBL15FTAGmZ3mlTA=s64",
      "userId": "03060927649473190252"
     },
     "user_tz": 180
    },
    "id": "JZ-To_ern9B8",
    "outputId": "b5730caf-7e21-4dfa-fa4d-55405cf39396"
   },
   "outputs": [
    {
     "data": {
      "image/png": "[encoded data removed]",
      "text/plain": [
       "<Figure size 360x216 with 2 Axes>"
      ]
     },
     "metadata": {
      "needs_background": "light"
     },
     "output_type": "display_data"
    },
    {
     "data": {
      "image/png": "[encoded data removed]",
      "text/plain": [
       "<Figure size 360x216 with 2 Axes>"
      ]
     },
     "metadata": {
      "needs_background": "light"
     },
     "output_type": "display_data"
    },
    {
     "data": {
      "image/png": "[encoded data removed]",
      "text/plain": [
       "<Figure size 360x216 with 2 Axes>"
      ]
     },
     "metadata": {
      "needs_background": "light"
     },
     "output_type": "display_data"
    },
    {
     "data": {
      "image/png": "[encoded data removed]",
      "text/plain": [
       "<Figure size 360x216 with 2 Axes>"
      ]
     },
     "metadata": {
      "needs_background": "light"
     },
     "output_type": "display_data"
    },
    {
     "data": {
      "image/png": "[encoded data removed]",
      "text/plain": [
       "<Figure size 360x216 with 2 Axes>"
      ]
     },
     "metadata": {
      "needs_background": "light"
     },
     "output_type": "display_data"
    }
   ],
   "source": [
    "# gráfica resultados\n",
    "def imprimir_resultados(ejemplos):\n",
    "    for ejemplo in ejemplos:\n",
    "        fig, ax = plt.subplots(1,2,figsize = (5,3))\n",
    "        ax[0].imshow(x_test[ejemplo], cmap=plt.cm.binary)\n",
    "        ax[1].bar(np.linspace(0,9,10),y_predict[ejemplo])\n",
    "        ax[1].set_xticks(np.linspace(0,9,10))\n",
    "\n",
    "\n",
    "ejemplos =[]\n",
    "for _ in range(5): ejemplos.append(random.randint(0,10000))\n",
    "\n",
    "imprimir_resultados(ejemplos)"
   ]
  },
  {
   "cell_type": "code",
   "execution_count": 20,
   "metadata": {
    "colab": {
     "base_uri": "https://localhost:8080/",
     "height": 373
    },
    "executionInfo": {
     "elapsed": 1042,
     "status": "ok",
     "timestamp": 1644741612373,
     "user": {
      "displayName": "Gonzalo Plaza",
      "photoUrl": "https://lh3.googleusercontent.com/a-/AOh14GjmvMAtExqe2jktxxqcs-sSx_hBL15FTAGmZ3mlTA=s64",
      "userId": "03060927649473190252"
     },
     "user_tz": 180
    },
    "id": "MWijFb3rtCCS",
    "outputId": "2294fb92-8a3c-4305-9c2f-921e37326c15"
   },
   "outputs": [
    {
     "data": {
      "image/png": "[encoded data removed]",
      "text/plain": [
       "<Figure size 720x432 with 1 Axes>"
      ]
     },
     "metadata": {
      "needs_background": "light"
     },
     "output_type": "display_data"
    }
   ],
   "source": [
    "# visión del overfitting\n",
    "res = pd.DataFrame(hist.history)\n",
    "res[['accuracy', 'val_accuracy']].plot(figsize=(10, 6), style='--');"
   ]
  }
 ],
 "metadata": {
  "kernelspec": {
   "display_name": "Python 3.9.7 ('gen_env')",
   "language": "python",
   "name": "python3"
  },
  "language_info": {
   "codemirror_mode": {
    "name": "ipython",
    "version": 3
   },
   "file_extension": ".py",
   "mimetype": "text/x-python",
   "name": "python",
   "nbconvert_exporter": "python",
   "pygments_lexer": "ipython3",
   "version": "3.9.7"
  },
  "orig_nbformat": 4,
  "vscode": {
   "interpreter": {
    "hash": "6e7bd28e140fee883747864dbac78c5044bc352839fa50964addd9cf2b8a41bc"
   }
  }
 },
 "nbformat": 4,
 "nbformat_minor": 2
}
